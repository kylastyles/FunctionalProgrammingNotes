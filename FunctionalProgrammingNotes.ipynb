{
 "cells": [
  {
   "cell_type": "markdown",
   "metadata": {},
   "source": [
    "# Notes from \"Learn Functional Python in 10 Minutes\" by Brandon Skerritt\n",
    "https://hackernoon.com/learn-functional-python-in-10-minutes-to-2d1651dece6f"
   ]
  },
  {
   "cell_type": "markdown",
   "metadata": {},
   "source": [
    "All functions in Python are first class objects. First class objects are:\n",
    "    * Created at runtime.\n",
    "    * Assigned to a variable or element in a data structure.\n",
    "    * Passed as an argument to a function.\n",
    "    * Returned as the result of a function.\n",
    "\n",
    "Functional programming is not very Pythonic. It can be clean or messy, but it certainly reduces the amount of \"side effects\", or changed variables. In a \"Functional Paradigm\", you don't tell the computer what to do so much as what stuff is. \n",
    "\n",
    "Example of an \"Imperative Paradigm\" in which the computer executes the sequence of given tasks. As it executes, the function has a \"side effect\" of changing something outside of it."
   ]
  },
  {
   "cell_type": "code",
   "execution_count": 1,
   "metadata": {},
   "outputs": [
    {
     "name": "stdout",
     "output_type": "stream",
     "text": [
      "5\n"
     ]
    }
   ],
   "source": [
    "a = 3\n",
    "\n",
    "def some_func():\n",
    "    global a\n",
    "    a = 5\n",
    "\n",
    "some_func()\n",
    "print(a)"
   ]
  },
  {
   "cell_type": "markdown",
   "metadata": {},
   "source": [
    "Functional programming uses recursion moreso than loops. "
   ]
  },
  {
   "cell_type": "code",
   "execution_count": 2,
   "metadata": {},
   "outputs": [
    {
     "name": "stdout",
     "output_type": "stream",
     "text": [
      "720\n"
     ]
    }
   ],
   "source": [
    "def factorial_recursive(n):\n",
    "    #base case\n",
    "    if n == 1:\n",
    "        return 1\n",
    "    #recursive case\n",
    "    else:\n",
    "        return n * factorial_recursive(n - 1)\n",
    "    \n",
    "print(factorial_recursive(6))"
   ]
  },
  {
   "cell_type": "markdown",
   "metadata": {},
   "source": [
    "Create your own \"iterable objects\" by implementing two \"magic methods\": **__iter__** and **__next__**."
   ]
  },
  {
   "cell_type": "code",
   "execution_count": 4,
   "metadata": {},
   "outputs": [
    {
     "name": "stdout",
     "output_type": "stream",
     "text": [
      "3\n",
      "4\n",
      "5\n",
      "6\n",
      "7\n",
      "8\n"
     ]
    }
   ],
   "source": [
    "class Counter:\n",
    "    def __init__(self, low, high):\n",
    "        #set class attributes\n",
    "        self.current = low\n",
    "        self.high = high\n",
    "    \n",
    "    def __iter__(self):\n",
    "        #first magic method to make obj iterable\n",
    "        return self\n",
    "    \n",
    "    def __next__(self):\n",
    "        #second magic method\n",
    "        if self.current > self.high:\n",
    "            raise StopIteration\n",
    "        else:\n",
    "            self.current += 1\n",
    "            return self.current - 1\n",
    "        \n",
    "for c in Counter(3, 8):\n",
    "    print(c)"
   ]
  },
  {
   "cell_type": "markdown",
   "metadata": {},
   "source": [
    "The **map** function lets us apply a function to every item in an iterable. It takes two arguments: the function to apply and the iterable object. \n",
    "\n",
    "Ex: map(function, iterable)"
   ]
  },
  {
   "cell_type": "code",
   "execution_count": 5,
   "metadata": {},
   "outputs": [
    {
     "name": "stdout",
     "output_type": "stream",
     "text": [
      "[1, 4, 9, 16, 25]\n"
     ]
    }
   ],
   "source": [
    "x = [1, 2, 3, 4, 5]\n",
    "\n",
    "def square(num):\n",
    "    return num * num\n",
    "\n",
    "#print the list of the iterable x mapped with the square function that takes an argument num.\n",
    "print(list(map(square, x)))"
   ]
  },
  {
   "cell_type": "markdown",
   "metadata": {},
   "source": [
    "Functional functions in Python are lazy. If we didn't include the \"list()\", the function would store the definition of the iterable, not the list itself. \n",
    "\n",
    "To avoid having to define a whole function just to use it once in a map, we can also define the function in the map by using a **lambda** function. Lambda functions are considered \"anonymous\" because they are not named. \n",
    "\n",
    "Ex: lambda arg1, arg2: arg1 + arg2"
   ]
  },
  {
   "cell_type": "code",
   "execution_count": 7,
   "metadata": {},
   "outputs": [
    {
     "name": "stdout",
     "output_type": "stream",
     "text": [
      "[1, 4, 9, 16, 25]\n"
     ]
    }
   ],
   "source": [
    "x = [1, 2, 3, 4, 5]\n",
    "\n",
    "# print the list of the iterable x mapped with the lambda function squaring argument num.\n",
    "print(list(map(lambda num: num * num, x)))"
   ]
  },
  {
   "cell_type": "markdown",
   "metadata": {},
   "source": [
    "The imperative way of finding the product of a list:"
   ]
  },
  {
   "cell_type": "code",
   "execution_count": 8,
   "metadata": {},
   "outputs": [
    {
     "name": "stdout",
     "output_type": "stream",
     "text": [
      "24\n"
     ]
    }
   ],
   "source": [
    "x = [1, 2, 3, 4]\n",
    "def create_product(listy):\n",
    "    answer = 1\n",
    "    for num in listy:\n",
    "        answer *= num\n",
    "    return answer\n",
    "\n",
    "print(create_product(x))"
   ]
  },
  {
   "cell_type": "markdown",
   "metadata": {},
   "source": [
    "Try instead, the **reduce** function. It takes an iterable and reduces it to one result. \n",
    "\n",
    "Ex: reduce(function, iterable)"
   ]
  },
  {
   "cell_type": "code",
   "execution_count": 12,
   "metadata": {},
   "outputs": [
    {
     "name": "stdout",
     "output_type": "stream",
     "text": [
      "24\n"
     ]
    }
   ],
   "source": [
    "from functools import reduce\n",
    "\n",
    "product = reduce((lambda x, y: x * y), [1, 2, 3, 4])\n",
    "print(product)"
   ]
  },
  {
   "cell_type": "markdown",
   "metadata": {},
   "source": [
    "The imperative way to append only negative numbers to a list:"
   ]
  },
  {
   "cell_type": "code",
   "execution_count": 14,
   "metadata": {},
   "outputs": [
    {
     "name": "stdout",
     "output_type": "stream",
     "text": [
      "[-5, -4, -3, -2, -1]\n"
     ]
    }
   ],
   "source": [
    "x = range(-5, 5)\n",
    "new_list = []\n",
    "\n",
    "for num in x:\n",
    "    if num < 0:\n",
    "        new_list.append(num)\n",
    "        \n",
    "print(new_list)"
   ]
  },
  {
   "cell_type": "markdown",
   "metadata": {},
   "source": [
    "The **filter** function takes a function and an iterable to filter out the items from the iterable that return False. \n",
    "\n",
    "Ex: filter(function, iterable)"
   ]
  },
  {
   "cell_type": "code",
   "execution_count": 15,
   "metadata": {},
   "outputs": [
    {
     "name": "stdout",
     "output_type": "stream",
     "text": [
      "[-5, -4, -3, -2, -1]\n"
     ]
    }
   ],
   "source": [
    "x = range(-5, 5)\n",
    "\n",
    "all_less_than_zero = list(filter(lambda num: num < 0, x))\n",
    "\n",
    "print(all_less_than_zero)"
   ]
  },
  {
   "cell_type": "markdown",
   "metadata": {},
   "source": [
    "# Higher Order Functions\n",
    "\n",
    "Higher order functions take functions as parameters and return functions."
   ]
  },
  {
   "cell_type": "code",
   "execution_count": 17,
   "metadata": {},
   "outputs": [
    {
     "name": "stdout",
     "output_type": "stream",
     "text": [
      "6\n"
     ]
    }
   ],
   "source": [
    "def summation(nums):\n",
    "    return sum(nums)\n",
    "\n",
    "def action(func, numbers):\n",
    "    return func(numbers)\n",
    "\n",
    "print(action(summation, [1, 2, 3]))"
   ]
  },
  {
   "cell_type": "code",
   "execution_count": 19,
   "metadata": {},
   "outputs": [
    {
     "name": "stdout",
     "output_type": "stream",
     "text": [
      "What's your age?30\n",
      "John\n"
     ]
    }
   ],
   "source": [
    "def rtnBrandon():\n",
    "    return \"Brandon\"\n",
    "\n",
    "def rtnJohn():\n",
    "    return \"John\"\n",
    "\n",
    "def rtnPerson():\n",
    "    age = int(input(\"What's your age?\"))\n",
    "    \n",
    "    if age == 21:\n",
    "        return rtnBrandon()\n",
    "    else:\n",
    "        return rtnJohn()\n",
    "    \n",
    "print(rtnPerson())"
   ]
  },
  {
   "cell_type": "markdown",
   "metadata": {},
   "source": [
    "**Partial application** calls a function without all of the arguments it requires."
   ]
  },
  {
   "cell_type": "code",
   "execution_count": 21,
   "metadata": {},
   "outputs": [
    {
     "name": "stdout",
     "output_type": "stream",
     "text": [
      "4\n",
      "8\n"
     ]
    }
   ],
   "source": [
    "from functools import partial\n",
    "\n",
    "def power(base, exponent):\n",
    "    return base ** exponent\n",
    "\n",
    "square = partial(power, exponent = 2)\n",
    "print(square(2))\n",
    "\n",
    "cube = partial(power, exponent = 3)\n",
    "print(cube(2))"
   ]
  },
  {
   "cell_type": "markdown",
   "metadata": {},
   "source": [
    "Anything you can do with map or filter, you can do with a **list comprehension**. \n",
    "\n",
    "Ex: [function for item in iterable]"
   ]
  },
  {
   "cell_type": "code",
   "execution_count": 22,
   "metadata": {},
   "outputs": [
    {
     "name": "stdout",
     "output_type": "stream",
     "text": [
      "[1, 4, 9, 16]\n"
     ]
    }
   ],
   "source": [
    "#map example: square every number in a list\n",
    "print([x * x for x in [1, 2, 3, 4]])"
   ]
  },
  {
   "cell_type": "code",
   "execution_count": 23,
   "metadata": {},
   "outputs": [
    {
     "name": "stdout",
     "output_type": "stream",
     "text": [
      "[-5, -4, -3, -2, -1]\n"
     ]
    }
   ],
   "source": [
    "#filter example: remove positive items from list\n",
    "x = range(-5, 5)\n",
    "\n",
    "all_less_than_zero = [num for num in x if num < 0]\n",
    "\n",
    "print(all_less_than_zero)"
   ]
  },
  {
   "cell_type": "markdown",
   "metadata": {},
   "source": [
    "You can create a comprehension of any iterable, even dictionaries and sets:"
   ]
  },
  {
   "cell_type": "code",
   "execution_count": 24,
   "metadata": {},
   "outputs": [
    {
     "name": "stdout",
     "output_type": "stream",
     "text": [
      "{1: 'UNITED STATES', 62: 'INDONESIA', 55: 'BRAZIL'}\n"
     ]
    }
   ],
   "source": [
    "country_code = {'China': 86, 'India': 91, 'United States': 1, 'Indonesia': 62, 'Brazil': 55, 'Pakistan': 92}\n",
    "\n",
    "#dictionary comprehension\n",
    "print({code: country.upper() for country, code in country_code.items() if code < 66})"
   ]
  },
  {
   "cell_type": "code",
   "execution_count": 25,
   "metadata": {},
   "outputs": [
    {
     "name": "stdout",
     "output_type": "stream",
     "text": [
      "{'°', '§', '=', '¶', '¬', '¤', '<', '¢', '#', '®', '©', '%', 'µ', '$', '×', '÷', '¥', '±', '>', '+', '£'}\n"
     ]
    }
   ],
   "source": [
    "from unicodedata import name\n",
    "\n",
    "#set comprehension\n",
    "print({chr(i) for i in range(32, 256) if 'SIGN' in name(chr(i), '')})"
   ]
  },
  {
   "cell_type": "code",
   "execution_count": null,
   "metadata": {},
   "outputs": [],
   "source": []
  }
 ],
 "metadata": {
  "kernelspec": {
   "display_name": "Python 3",
   "language": "python",
   "name": "python3"
  },
  "language_info": {
   "codemirror_mode": {
    "name": "ipython",
    "version": 3
   },
   "file_extension": ".py",
   "mimetype": "text/x-python",
   "name": "python",
   "nbconvert_exporter": "python",
   "pygments_lexer": "ipython3",
   "version": "3.6.3"
  }
 },
 "nbformat": 4,
 "nbformat_minor": 2
}
